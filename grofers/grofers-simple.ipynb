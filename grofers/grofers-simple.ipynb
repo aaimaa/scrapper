{
 "cells": [
  {
   "cell_type": "code",
   "execution_count": 1,
   "metadata": {},
   "outputs": [],
   "source": [
    "import requests\n",
    "from bs4 import BeautifulSoup\n",
    "import pandas as pd"
   ]
  },
  {
   "cell_type": "code",
   "execution_count": 2,
   "metadata": {},
   "outputs": [],
   "source": [
    "# grofers \n",
    "def get_data_grofers(ptype, pageNo):\n",
    "    headers = {\"User-Agent\":\"Mozilla/5.0 (Windows NT 10.0; Win64;     x64; rv:66.0) Gecko/20100101 Firefox/66.0\", \\\n",
    "               \"Accept-Encoding\":\"gzip, deflate\",     \"Accept\":\"text/html,application/xhtml+xml,application/xml;q=0.9,*/*;q=0.8\", \"DNT\":\"1\",\"Connection\":\"close\", \"Upgrade-Insecure-Requests\":\"1\"}\n",
    "    \n",
    "    #print(\"https://grofers.com/s/?q=\"+ptype)\n",
    "    r = requests.get(\"https://grofers.com/s/?q=\"+ptype, headers=headers)\n",
    "    \n",
    "    content = r.content\n",
    "    soup = BeautifulSoup(content)\n",
    "    #print(soup.prettify())\n",
    "    \n",
    "    #x=soup.find('div', attrs={'class':'plp-product'})\n",
    "    #print(x)\n",
    "    \n",
    "    p_product_df = pd.DataFrame(columns=['Category','Product Name','UoM','MRP','Selling Price', 'Club Price'])\n",
    "    \n",
    "    for d in soup.findAll('div', attrs={'class':'plp-product'}):\n",
    "        name = d.find('div', attrs={'class':'plp-product__name--box'})\n",
    "        sellingprice = d.find('span', attrs={'class':'plp-product__price--new'})\n",
    "        mrp = d.find('div', attrs={'class':'plp-product__price--old display--inline-block@mobile'})\n",
    "        club = d.find('div', attrs={'class':'plp-product__non-member-price'})\n",
    "        qty = d.find('div', attrs={'class':'plp-product__quantity'})\n",
    "    \n",
    "        #print(rating.text)   \n",
    "        if name is not None:\n",
    "            final_name = name.text\n",
    "        else:\n",
    "            final_name = \"unknown-product\"\n",
    "       \n",
    "        if sellingprice is not None:\n",
    "            last_sellingprice = sellingprice.text\n",
    "            last_sellingprice = last_sellingprice[1:]\n",
    "        else:\n",
    "            last_sellingprice = '0'\n",
    "        \n",
    "        if mrp is not None:\n",
    "            mrp_price = mrp.text\n",
    "            mrp_price = mrp_price[1:]\n",
    "        else:\n",
    "            mrp_price = last_sellingprice\n",
    "\n",
    "        if club is not None:\n",
    "            clubprice = club.text\n",
    "            clubprice = clubprice[1:]\n",
    "        else:\n",
    "            clubprice = last_sellingprice  \n",
    "\n",
    "        if qty is not None:\n",
    "            final_qty = qty.text\n",
    "        else:\n",
    "            final_qty = '-1'\n",
    "        \n",
    "        #print(ptype,final_name, last_sellingprice, final_qty)\n",
    "        #product_df.append({'Product Name': 'acer','Selling Price':'1000$','Rating':'4 out of 5'}, ignore_index=True)\n",
    "        p_product_df = p_product_df.append({'Category':ptype,'Product Name': final_name,'MRP':mrp_price,'Selling Price':last_sellingprice,'Club Price':clubprice,'UoM':final_qty}, ignore_index=True)\n",
    "        \n",
    "    return p_product_df"
   ]
  },
  {
   "cell_type": "code",
   "execution_count": 3,
   "metadata": {},
   "outputs": [],
   "source": [
    "data_df = pd.DataFrame(columns=['Category','Product Name','UoM','MRP','Selling Price', 'Club Price'])\n",
    "no_pages = 1\n",
    "\n",
    "#ptype_list = ['chocolates']\n",
    "ptype_list = ['namkeen-snacks']\n",
    "\n",
    "for x in ptype_list:\n",
    "    for i in range(no_pages):\n",
    "        data_df = data_df.append(get_data_grofers(x,i),ignore_index=True)"
   ]
  },
  {
   "cell_type": "code",
   "execution_count": 4,
   "metadata": {},
   "outputs": [
    {
     "output_type": "execute_result",
     "data": {
      "text/plain": "         Category                           Product Name    UoM  MRP  \\\n0  namkeen-snacks              Haldiram's Bhujia Namkeen   1 kg  225   \n1  namkeen-snacks   Grofers Happy Day Bhujia Sev Namkeen   1 kg  215   \n2  namkeen-snacks                Bikaneri Bhujia Namkeen  950 g  151   \n3  namkeen-snacks              Haldiram's Boondi Namkeen  200 g   44   \n4  namkeen-snacks  Grofers Happy Day Soya Katori Namkeen  100 g   45   \n\n  Selling Price       Club Price  \n0           188  lub Price: ₹182  \n1           148  lub Price: ₹143  \n2           125  lub Price: ₹121  \n3            44   lub Price: ₹42  \n4            27   lub Price: ₹26  ",
      "text/html": "<div>\n<style scoped>\n    .dataframe tbody tr th:only-of-type {\n        vertical-align: middle;\n    }\n\n    .dataframe tbody tr th {\n        vertical-align: top;\n    }\n\n    .dataframe thead th {\n        text-align: right;\n    }\n</style>\n<table border=\"1\" class=\"dataframe\">\n  <thead>\n    <tr style=\"text-align: right;\">\n      <th></th>\n      <th>Category</th>\n      <th>Product Name</th>\n      <th>UoM</th>\n      <th>MRP</th>\n      <th>Selling Price</th>\n      <th>Club Price</th>\n    </tr>\n  </thead>\n  <tbody>\n    <tr>\n      <th>0</th>\n      <td>namkeen-snacks</td>\n      <td>Haldiram's Bhujia Namkeen</td>\n      <td>1 kg</td>\n      <td>225</td>\n      <td>188</td>\n      <td>lub Price: ₹182</td>\n    </tr>\n    <tr>\n      <th>1</th>\n      <td>namkeen-snacks</td>\n      <td>Grofers Happy Day Bhujia Sev Namkeen</td>\n      <td>1 kg</td>\n      <td>215</td>\n      <td>148</td>\n      <td>lub Price: ₹143</td>\n    </tr>\n    <tr>\n      <th>2</th>\n      <td>namkeen-snacks</td>\n      <td>Bikaneri Bhujia Namkeen</td>\n      <td>950 g</td>\n      <td>151</td>\n      <td>125</td>\n      <td>lub Price: ₹121</td>\n    </tr>\n    <tr>\n      <th>3</th>\n      <td>namkeen-snacks</td>\n      <td>Haldiram's Boondi Namkeen</td>\n      <td>200 g</td>\n      <td>44</td>\n      <td>44</td>\n      <td>lub Price: ₹42</td>\n    </tr>\n    <tr>\n      <th>4</th>\n      <td>namkeen-snacks</td>\n      <td>Grofers Happy Day Soya Katori Namkeen</td>\n      <td>100 g</td>\n      <td>45</td>\n      <td>27</td>\n      <td>lub Price: ₹26</td>\n    </tr>\n  </tbody>\n</table>\n</div>"
     },
     "metadata": {},
     "execution_count": 4
    }
   ],
   "source": [
    "data_df.to_csv('3.csv')\n",
    "data_df.head()"
   ]
  },
  {
   "cell_type": "code",
   "execution_count": null,
   "metadata": {},
   "outputs": [],
   "source": []
  }
 ],
 "metadata": {
  "kernelspec": {
   "display_name": "Python 3.8.5 32-bit",
   "language": "python",
   "name": "python_defaultSpec_1600702081631"
  },
  "language_info": {
   "codemirror_mode": {
    "name": "ipython",
    "version": 3
   },
   "file_extension": ".py",
   "mimetype": "text/x-python",
   "name": "python",
   "nbconvert_exporter": "python",
   "pygments_lexer": "ipython3",
   "version": "3.8.5-final"
  }
 },
 "nbformat": 4,
 "nbformat_minor": 2
}